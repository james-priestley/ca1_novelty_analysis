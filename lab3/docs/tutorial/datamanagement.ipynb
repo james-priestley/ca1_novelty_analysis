{
 "cells": [
  {
   "cell_type": "markdown",
   "metadata": {},
   "source": [
    "### Data Management\n",
    "\n",
    "This tutorial should cover the standard routines and scripts to run for:\n",
    "\n",
    "  * Copying behavior data to the server and tips for organizing\n",
    "  * Using tdmlPickler and sqlTrialLoader to add trials to the database\n",
    "  * Copying imaging data to the server and tips for organizing\n",
    "  * Running h5 conversion / metadata updates / wrapping with SIMA\n",
    "  * Archiving data to Amazon (move these scripts to this repo!)"
   ]
  }
 ],
 "metadata": {
  "kernelspec": {
   "display_name": "Python 3",
   "language": "python",
   "name": "python3"
  },
  "language_info": {
   "codemirror_mode": {
    "name": "ipython",
    "version": 3
   },
   "file_extension": ".py",
   "mimetype": "text/x-python",
   "name": "python",
   "nbconvert_exporter": "python",
   "pygments_lexer": "ipython3",
   "version": "3.7.6"
  }
 },
 "nbformat": 4,
 "nbformat_minor": 4
}

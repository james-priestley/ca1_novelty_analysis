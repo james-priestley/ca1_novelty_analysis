{
 "cells": [
  {
   "cell_type": "markdown",
   "metadata": {},
   "source": [
    "### Using Experiment objects\n",
    "\n",
    "This tutorial will give a quick survey of the experiment module. The major \n",
    "tools provided here are in ``base``, which provides a set of objects to \n",
    "represent the most common types of experiments done in the lab. We'll point out \n",
    "the main functionality, and point out the major departures from the old repo's \n",
    "experiment class when necessary.\n",
    "\n",
    "By the end of this tutorial, you will know how to initialize \n",
    "``BehaviorExperiment`` and ``ImagingExperiment`` objects, how to pair imaging \n",
    "data with trials in the experiment database, and how to access the raw behavior \n",
    "and imaging data through the experiment object properties and methods."
   ]
  },
  {
   "cell_type": "markdown",
   "metadata": {},
   "source": [
    "<h4>Using BehaviorExperiment</h4>\n",
    "\n",
    "The basic experiment types are located in ``lab3.experiment.base``.\n",
    "``BehaviorExperiment`` is the base class for representing experiments that have\n",
    "behavior data stored in the sql database. Instances are initialized by simply\n",
    "passing the trial ID to the constructor. You can read about searching the\n",
    "database for the IDs of specific trials in the database tutorial. Here we\n",
    "initialize an experiment object:"
   ]
  },
  {
   "cell_type": "code",
   "execution_count": null,
   "metadata": {},
   "outputs": [],
   "source": [
    "from lab3.experiment.base import BehaviorExperiment\n",
    "    \n",
    "trial_id = 9001\n",
    "expt = BehaviorExperiment(trial_id)"
   ]
  },
  {
   "cell_type": "markdown",
   "metadata": {},
   "source": [
    "This object behaves similarly to the old repo's ``dbExperimentClass`` for\n",
    "accessing and modifying database attributes (though this may change slightly in\n",
    "the near future). \n",
    "\n",
    "Perhaps the most common task is to access the behavior data associated with\n",
    "this experiment. We have two methods of doing this:"
   ]
  },
  {
   "cell_type": "code",
   "execution_count": null,
   "metadata": {},
   "outputs": [],
   "source": [
    "# this property returns the unformatted behavior dictionary stored in the\n",
    "# behavior pkl file on disk\n",
    "beh_dict = expt.behavior_data\n",
    "\n",
    "# this method returns the formatted behavior dictionary, where interval\n",
    "# variables are converted to indicator variables at a fixed sampling\n",
    "# rate \n",
    "formatted_beh_dict = expt.format_behavior_data()\n",
    "\n",
    "# we can specify a custom sampling interval or trim data from the edges\n",
    "formatted_beh_dict = expt.format_behavior_data(sampling_interval=0.1)\n",
    "formatted_beh_dict = expt.format_behavior_data(\n",
    "    sampling_interval=0.1, discard_pre=10, discard_post=10)\n",
    "formatted_beh_dict = expt.format_behavior_data(\n",
    "    sampling_interval=0.1, discard_pre='first_lap')"
   ]
  },
  {
   "cell_type": "markdown",
   "metadata": {},
   "source": [
    "A velocity variable is included in the dictionary returned by \n",
    "``format_behavior_data()``, and we may also access it via ``velocity()``. Both\n",
    "methods take a ``sigma`` parameter to control the degree of smoothing:"
   ]
  },
  {
   "cell_type": "code",
   "execution_count": null,
   "metadata": {
    "tags": []
   },
   "outputs": [],
   "source": [
    "# from the behavior dictionary\n",
    "velo = expt.format_behavior_data(sigma=0.1)['velocity']\n",
    "\n",
    "# from the method\n",
    "velo = expt.velocity(sigma=0.1)\n",
    "\n",
    "# velocity() takes any of the formatting parameters of \n",
    "# format_behavior_data()\n",
    "velo = expt.velocity(sigma=0.1, discard_pre=10, sampling_interval=0.5)"
   ]
  },
  {
   "cell_type": "markdown",
   "metadata": {},
   "source": [
    "TODO : add a section on modifying database attributes via \n",
    "``BehaviorExperiment``."
   ]
  },
  {
   "cell_type": "markdown",
   "metadata": {},
   "source": [
    "<h4>Using ImagingExperiment</h4>\n",
    "\n",
    "``ImagingExperiment`` is the basic class for representing experiments that\n",
    "have both behavior data in the database and associated imaging data. There are\n",
    "two ways to initialize an instance, depending on whether or not the database\n",
    "has a stored record of where the associated imaging data is located. So the\n",
    "constructor provides a convenient method for completing this pairing and\n",
    "modifying the database for posterity. Experiments that are already paired can\n",
    "simply be initialized with the trial ID alone.\n",
    "\n",
    "Let's assume the experiment is in the database but is unpaired:"
   ]
  },
  {
   "cell_type": "code",
   "execution_count": null,
   "metadata": {
    "tags": []
   },
   "outputs": [],
   "source": [
    "from lab3.experiment.base import BehaviorExperiment, ImagingExperiment\n",
    "    \n",
    "trial_id = 9001\n",
    "\n",
    "# this will work\n",
    "expt = BehaviorExperiment(trial_id)\n",
    "\n",
    "# this will break! \n",
    "expt = ImagingExperiment(trial_id)\n",
    "\n",
    "# here is the path to the imaging data\"\n",
    "sima_path = \"/path/to/sima/directory.sima\"\n",
    "\n",
    "# now we can initialize the object\n",
    "expt = ImagingExperiment(trial_id, sima_path=sima_path)\n",
    "\n",
    "# the above allows us to initialize the object now, but the results are\n",
    "# not automatically stored in the database. to do so, we must set\n",
    "# store=True\n",
    "expt = ImagingExperiment(trial_id, sima_path=sima_path, store=True)\n",
    "\n",
    "# we can also change the sima_path during initialization, and choose\n",
    "# whether to update the database\n",
    "new_sima_path = \"/path/to/new/sima/directory.sima\"\n",
    "\n",
    "# this does not edit the database\n",
    "expt = ImagingExperiment(trial_id, sima_path=new_sima_path, \n",
    "                         force_pairing=True)\n",
    "\n",
    "# this edits the database\n",
    "expt = ImagingExperiment(trial_id, sima_path=new_sima_path, \n",
    "                         force_pairing=True, store=True)"
   ]
  },
  {
   "cell_type": "markdown",
   "metadata": {},
   "source": [
    "The above example illustrates an import divergence from the standards of the\n",
    "old repository. Here we unambiguously pair database records with \n",
    "*sima directories*, not the folder that contains them (previously an attribute\n",
    "called ``tSeries_path``). Importantly this means that any experiments that\n",
    "were paired with imaging data in the old format will have to be re-paired\n",
    "(this will not affect the ``tSeries_path`` attribute, so you may continue to\n",
    "use the old repository).\n",
    "\n",
    "Before attempting to use then new imaging classes, it is also necessary to run \n",
    "``/scripts/update_h5.py`` on your imaging folder. This will find all h5\n",
    "imaging datasets in your folder and (1) add some metadata to be permanently\n",
    "stored in the h5 (e.g. the frame period) rather than calculated ad hoc\n",
    "as before, and (2) wrap any naked h5 datasets with a sima directory (existing\n",
    "sima folders are left untouched). This update currently only works for Prairie\n",
    "datasets. We anticipate in the future that this step will be added to the\n",
    "``prairie2h5.py`` script (and other conversion scripts). "
   ]
  },
  {
   "cell_type": "markdown",
   "metadata": {},
   "source": [
    "<h4>Properties and methods of ImagingExperiment</h4>\n",
    "\n",
    "Initializing an ``ImagingExperiment`` object gives us easy access to many\n",
    "properties:"
   ]
  },
  {
   "cell_type": "code",
   "execution_count": null,
   "metadata": {
    "tags": []
   },
   "outputs": [],
   "source": [
    "dur = expt.frame_period\n",
    "fs = expt.frame_rate \n",
    "param_dict = expt.imaging_parameters\n",
    "\n",
    "# since each experiment is paired with a sima folder, we can easily access\n",
    "# the underlying sima ImagingDataset object\n",
    "sima_ds = expt.imaging_dataset\n",
    "sequences = expt.imaging_dataset.sequences\n",
    "\n",
    "# we can also get a Suite2pImagingDataset, which will allow us to run the\n",
    "# Suite2p extraction code (see the Suite2p tutorial)\n",
    "s2p_ds = expt.suite2p_imaging_dataset"
   ]
  },
  {
   "cell_type": "markdown",
   "metadata": {},
   "source": [
    "We can also run all of our basic signal processing steps directly through the\n",
    "experiment object, rather than running scripts. This is covered in detail in\n",
    "the signal processing tutorial. Here we summarize simply how to access the\n",
    "signals:"
   ]
  },
  {
   "cell_type": "code",
   "execution_count": null,
   "metadata": {
    "tags": []
   },
   "outputs": [],
   "source": [
    "# this returns the path to the signals.h5 that stores time series data\n",
    "path = expt.signals_path\n",
    "\n",
    "# this returns the HDFStore object containing the signal traces. this is\n",
    "# read-only by default, but you can pass the usual arguments to the \n",
    "# constructor \n",
    "signals_file = expt.signals_file(mode='a')\n",
    "\n",
    "# we can retrieve specific signal entries from the file\n",
    "dfof = expt.signals(channel='Ch2', label='suite2p', signal_type='dfof')\n",
    "\n",
    "# we can get the ROI objects for a given label like so:\n",
    "rois = expt.rois(label='suite2p')\n",
    "\n",
    "# we can delete all ROI and signal records for a given label\n",
    "# if you do not set do_nothing=False, it will simply print the changes\n",
    "# that would be made\n",
    "expt.delete_roi_list(channel='Ch2', label='suite2p', do_nothing=False)"
   ]
  },
  {
   "cell_type": "markdown",
   "metadata": {},
   "source": [
    "<h4>Using ImagingOnlyExperiment</h4>\n",
    "\n",
    "Have an imaging dataset that isn't associated with behavior data? Or want to\n",
    "start processing your signals without figuring out where you left your tdml\n",
    "files months ago? You can get most of the functionality of \n",
    "``ImagingExperiment`` using ``ImagingOnlyExperiment``:"
   ]
  },
  {
   "cell_type": "code",
   "execution_count": null,
   "metadata": {
    "tags": []
   },
   "outputs": [],
   "source": [
    "from lab3.experiment.base import ImagingOnlyExperiment\n",
    "    \n",
    "trial_id = 9001\n",
    "sima_path = \"/path/to/unpaired/sima/directory.sima\"\n",
    "\n",
    "# initialize the object\n",
    "expt = ImagingOnlyExperiment(trial_id, sima_path=sima_path)"
   ]
  },
  {
   "cell_type": "markdown",
   "metadata": {},
   "source": [
    "Using this object you can access imaging data, run signals analysis, etc...\n",
    "Obviously behavior methods and properties are unavailable."
   ]
  }
 ],
 "metadata": {
  "kernelspec": {
   "display_name": "Python 3",
   "language": "python",
   "name": "python3"
  },
  "language_info": {
   "codemirror_mode": {
    "name": "ipython",
    "version": 3
   },
   "file_extension": ".py",
   "mimetype": "text/x-python",
   "name": "python",
   "nbconvert_exporter": "python",
   "pygments_lexer": "ipython3",
   "version": "3.7.6"
  }
 },
 "nbformat": 4,
 "nbformat_minor": 4
}

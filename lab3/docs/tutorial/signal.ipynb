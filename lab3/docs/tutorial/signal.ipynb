{
 "cells": [
  {
   "cell_type": "markdown",
   "metadata": {},
   "source": [
    "### Signal processing basics\n",
    "\n",
    "Suppose you have a list of experiments that you would like to process:"
   ]
  },
  {
   "cell_type": "code",
   "execution_count": null,
   "metadata": {},
   "outputs": [],
   "source": [
    "from lab3.experiment.base import ImagingExperiment, fetch_trials\n",
    "    \n",
    "trial_ids = fetch_trials(project_name='awesome', mouse_name='tolstoy')\n",
    "expt_list = [ImagingExperiment(trial_id) for trial_id in trial_ids]"
   ]
  },
  {
   "cell_type": "markdown",
   "metadata": {},
   "source": [
    "We'll assume that each of these experiments has signals imported, i.e. in\n",
    "``expt.signal_file()`` there is a ``raw`` signal key. We'll assume that user\n",
    "``awesome`` used Suite2p with the default settings, so there will be two signal\n",
    "records: ``/Ch2/suite2p/raw`` and ``/Ch2/suite2p/npil``.\n",
    "\n",
    "We can access these signals easily:"
   ]
  },
  {
   "cell_type": "code",
   "execution_count": null,
   "metadata": {},
   "outputs": [],
   "source": [
    "expt = expt_list[0]\n",
    "raw = expt.signals(label='suite2p', signal_type='raw')"
   ]
  },
  {
   "cell_type": "markdown",
   "metadata": {},
   "source": [
    "Here ``raw`` is a pandas dataframe indexed by the ROI labels."
   ]
  },
  {
   "cell_type": "markdown",
   "metadata": {},
   "source": [
    "#### Calculating DFOF\n",
    "\n",
    "The ``lab3.signal.dfof`` module gives us a number of strategies for calculating\n",
    "dF/F from raw signals. Since we are considering Suite2p extractions here, which\n",
    "include also an estimate of the neuropil, we'll use the ``Suite2pDFOF`` \n",
    "strategy:"
   ]
  },
  {
   "cell_type": "code",
   "execution_count": null,
   "metadata": {},
   "outputs": [],
   "source": [
    "from lab3.signal.dfof import Suite2pDFOF"
   ]
  },
  {
   "cell_type": "markdown",
   "metadata": {},
   "source": [
    "All subclasses of ``DFOFStrategy`` share a common interface. So we could \n",
    "calculate dF/F like so:"
   ]
  },
  {
   "cell_type": "code",
   "execution_count": null,
   "metadata": {},
   "outputs": [],
   "source": [
    "# initialize the strategy objects with any custom parameters we want\n",
    "# the parameters available may change depending on the specific strategy\n",
    "strategy = Suite2pDFOF(constant_denominator=True)\n",
    "\n",
    "# load our signals\n",
    "raw = expt.signals(label='suite2p', signal_type='raw')\n",
    "npil = expt.signals(label='suite2p', signal_type='npil')\n",
    "\n",
    "# calculate dfof\n",
    "dfof = strategy.calculate(raw, npil)"
   ]
  },
  {
   "cell_type": "markdown",
   "metadata": {},
   "source": [
    "We can also use methods of ``Imagingexperiment`` to calculate dF/F using an\n",
    "arbitrary strategy, and automatically store the results in the experiment's\n",
    "signals file:"
   ]
  },
  {
   "cell_type": "code",
   "execution_count": null,
   "metadata": {},
   "outputs": [],
   "source": [
    "# let's try a different strategy\n",
    "from lab3.signal.dfof import JiaDFOF\n",
    "\n",
    "for expt in expt_list:\n",
    "\n",
    "    dfof = expt.calculate_dfof(JiaDFOF(), channel='Ch2', label='suite2p', \n",
    "                               overwrite=True)\n",
    "\n",
    "    # now we can retrieve the signals via the signals() method\n",
    "    dfof = expt.signals(channel='Ch2', label='suite2p', signal_type='dfof')"
   ]
  },
  {
   "cell_type": "markdown",
   "metadata": {},
   "source": [
    "#### Spike inference"
   ]
  },
  {
   "cell_type": "markdown",
   "metadata": {},
   "source": [
    "TODO but the gist is similar to the above "
   ]
  }
 ],
 "metadata": {
  "kernelspec": {
   "display_name": "Python 3",
   "language": "python",
   "name": "python3"
  },
  "language_info": {
   "codemirror_mode": {
    "name": "ipython",
    "version": 3
   },
   "file_extension": ".py",
   "mimetype": "text/x-python",
   "name": "python",
   "nbconvert_exporter": "python",
   "pygments_lexer": "ipython3",
   "version": "3.7.6"
  }
 },
 "nbformat": 4,
 "nbformat_minor": 4
}

{
 "cells": [
  {
   "cell_type": "markdown",
   "metadata": {},
   "source": [
    "### Using the Experiment Database\n",
    "\n",
    "This tutorial should cover basic tips and tricks for interfacing with the\n",
    "experiment database, in particular, retrieving experiment IDs for initializing\n",
    "experiment objects."
   ]
  },
  {
   "cell_type": "code",
   "execution_count": 4,
   "metadata": {},
   "outputs": [],
   "source": [
    "from lab3.experiment import database\n",
    "import pandoc"
   ]
  },
  {
   "cell_type": "code",
   "execution_count": 11,
   "metadata": {},
   "outputs": [
    {
     "data": {
      "text/plain": [
       "<module 'lab3.experiment.database' from '/home/james/code/lab3/lab3/experiment/database.py'>"
      ]
     },
     "execution_count": 11,
     "metadata": {},
     "output_type": "execute_result"
    }
   ],
   "source": [
    "database"
   ]
  },
  {
   "cell_type": "code",
   "execution_count": 12,
   "metadata": {},
   "outputs": [
    {
     "data": {
      "text/plain": [
       "\u001b[0;31mInit signature:\u001b[0m \u001b[0mdatabase\u001b[0m\u001b[0;34m.\u001b[0m\u001b[0mExperimentDatabase\u001b[0m\u001b[0;34m(\u001b[0m\u001b[0;34m)\u001b[0m\u001b[0;34m\u001b[0m\u001b[0;34m\u001b[0m\u001b[0m\n",
       "\u001b[0;31mDocstring:\u001b[0m     \n",
       "An object to wrap MySQLdb and handle all connections to mySQL server\n",
       "\n",
       "Example\n",
       "-------\n",
       "\n",
       ">>> from lab.classes import database\n",
       ">>> db = database.ExperimentDatabase()\n",
       ">>> db.select_all('SELECT * FROM mice LIMIT 10')\n",
       ">>> db.disconnect()\n",
       "\u001b[0;31mInit docstring:\u001b[0m Connects to SQL database upon initialization.\n",
       "\u001b[0;31mFile:\u001b[0m           ~/code/lab3/lab3/experiment/database.py\n",
       "\u001b[0;31mType:\u001b[0m           type\n",
       "\u001b[0;31mSubclasses:\u001b[0m     \n"
      ]
     },
     "metadata": {},
     "output_type": "display_data"
    }
   ],
   "source": [
    "database.ExperimentDatabase?"
   ]
  }
 ],
 "metadata": {
  "kernelspec": {
   "display_name": "Python [conda env:lab3]",
   "language": "python",
   "name": "conda-env-lab3-py"
  },
  "language_info": {
   "codemirror_mode": {
    "name": "ipython",
    "version": 3
   },
   "file_extension": ".py",
   "mimetype": "text/x-python",
   "name": "python",
   "nbconvert_exporter": "python",
   "pygments_lexer": "ipython3",
   "version": "3.8.11"
  }
 },
 "nbformat": 4,
 "nbformat_minor": 4
}

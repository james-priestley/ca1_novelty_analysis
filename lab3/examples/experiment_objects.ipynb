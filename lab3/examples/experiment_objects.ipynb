{
 "cells": [
  {
   "cell_type": "code",
   "execution_count": 1,
   "metadata": {},
   "outputs": [],
   "source": [
    "from lab3.experiment import base"
   ]
  },
  {
   "cell_type": "markdown",
   "metadata": {},
   "source": [
    "## Working with experiment classes\n",
    "This tutorial will give a quick survey of the experiment module. The major tools provided here are in `base`, which provides a set of objects to represent the most common types of experiments done in the lab. We'll point out the main functionality, and point out the major departures from the old repo's experiment class when necessary.\n",
    "\n",
    "By the end of this notebook, you will know how to initialize `BehaviorExperiment` and `ImagingExperiment` objects, how to pair imaging data with trials in the experiment database, and how to access the raw behavior and imaging data through the experiment object properties and methods."
   ]
  },
  {
   "cell_type": "code",
   "execution_count": 2,
   "metadata": {},
   "outputs": [
    {
     "data": {
      "text/plain": [
       "\u001b[0;31mType:\u001b[0m        module\n",
       "\u001b[0;31mString form:\u001b[0m <module 'lab3.experiment.base' from '/home/james/code/lab3/lab3/experiment/base.py'>\n",
       "\u001b[0;31mFile:\u001b[0m        ~/code/lab3/lab3/experiment/base.py\n",
       "\u001b[0;31mDocstring:\u001b[0m  \n",
       "A collection of base classes for representing the basic experiment types\n",
       "used in the lab: combinations of behavior, imaging, and LFP recordings.\n",
       "Inherit from these to extend their functionality for more paradigms, e.g.\n",
       "specific behavior tasks, that lend themselves to bespoke analysis methods.\n"
      ]
     },
     "metadata": {},
     "output_type": "display_data"
    }
   ],
   "source": [
    "base?"
   ]
  },
  {
   "cell_type": "markdown",
   "metadata": {},
   "source": [
    "### Using `BehaviorExperiment`\n",
    "\n",
    "If you are familiar with the lab repo's `dbExperiment` class, this class works very similarly. It is initialized by passing an experiment ID from the sql database, and provides access to the behavior data and experiment attributes stored in the database. You can query the database to find the trial id of your experiment using `base.fetch_trials`."
   ]
  },
  {
   "cell_type": "code",
   "execution_count": 3,
   "metadata": {},
   "outputs": [
    {
     "data": {
      "text/plain": [
       "\u001b[0;31mInit signature:\u001b[0m \u001b[0mbase\u001b[0m\u001b[0;34m.\u001b[0m\u001b[0mBehaviorExperiment\u001b[0m\u001b[0;34m(\u001b[0m\u001b[0mtrial_id\u001b[0m\u001b[0;34m)\u001b[0m\u001b[0;34m\u001b[0m\u001b[0;34m\u001b[0m\u001b[0m\n",
       "\u001b[0;31mDocstring:\u001b[0m     \n",
       "Base class for all experiments in the behavior database.\n",
       "\n",
       "Parameters\n",
       "----------\n",
       "trial_id : int\n",
       "    ID of experiment in the sql database\n",
       "\u001b[0;31mFile:\u001b[0m           ~/code/lab3/lab3/experiment/base.py\n",
       "\u001b[0;31mType:\u001b[0m           type\n",
       "\u001b[0;31mSubclasses:\u001b[0m     ImagingExperiment, LFPExperiment\n"
      ]
     },
     "metadata": {},
     "output_type": "display_data"
    }
   ],
   "source": [
    "base.BehaviorExperiment?"
   ]
  },
  {
   "cell_type": "code",
   "execution_count": 4,
   "metadata": {},
   "outputs": [
    {
     "name": "stdout",
     "output_type": "stream",
     "text": [
      "[16716]\n"
     ]
    }
   ],
   "source": [
    "# e.g. find a trial_id by specifying some of the trial_info\n",
    "trial_id = base.fetch_trials(project_name='james', mouse_name='jbp027', \n",
    "                             experimentType='delayed_associative_memory', \n",
    "                             session=0, condition=0, start_time='2018-10-05-17h53m45s')\n",
    "print(trial_id)"
   ]
  },
  {
   "cell_type": "code",
   "execution_count": 5,
   "metadata": {},
   "outputs": [
    {
     "name": "stdout",
     "output_type": "stream",
     "text": [
      "<BehaviorExperiment: trial_id=[16716] mouse_id=572 experimentType=delayed_associative_memory>\n"
     ]
    }
   ],
   "source": [
    "# initialize a BehaviorExperiment object\n",
    "expt = base.BehaviorExperiment(trial_id)\n",
    "print(expt)"
   ]
  },
  {
   "cell_type": "markdown",
   "metadata": {},
   "source": [
    "### Accessing behavior data through `BehaviorExperiment` properties and methods \n",
    "\n",
    "Compared to the old repo experiment objects, the code for accessing and formatting behavior data is simplified. After running the tdml pickling script, behavior data is stored as a dictionary, where most variables of interest are stored as intervals (i.e. start/stop times). The `BehaviorExperiment` object exposes a `behavior_data` property, that returns this unformatted dictionary unchanged.\n",
    "\n",
    "Often we would like to convert behavior data to indicator variables, that take values of True (when in the interval) or False (when not in the interval), and are sampled at regular intervals (e.g. to match the sampling of imaging data). To do this, use the `format_behavior_data()` method, which takes additional parameters to customize the sampling interval and other settings. This method and the previous property replace the overloaded functionality of `trial.behaviorData()` which was inherited by the old-style experiment class.\n",
    "\n",
    "Another change from the old system is that velocity is calculated and included in the dictionary returned by `format_behavior_data()`. You can also return just the velocity via a separate method `velocity()`. Both `velocity()` and `format_behavior_data()` take a parameter `sigma` that controls the degree of smoothing in the velocity trace.\n",
    "\n",
    "Examples of these methods and the documentation is shown below:"
   ]
  },
  {
   "cell_type": "code",
   "execution_count": 6,
   "metadata": {},
   "outputs": [
    {
     "data": {
      "text/plain": [
       "\u001b[0;31mType:\u001b[0m        property\n",
       "\u001b[0;31mString form:\u001b[0m <property object at 0x7f0c19e55a48>\n",
       "\u001b[0;31mDocstring:\u001b[0m   Get unformatted behavior dictionary from pkl file.\n"
      ]
     },
     "metadata": {},
     "output_type": "display_data"
    }
   ],
   "source": [
    "# This is the behavior data property\n",
    "expt.behavior_data?"
   ]
  },
  {
   "cell_type": "code",
   "execution_count": 7,
   "metadata": {},
   "outputs": [
    {
     "name": "stdout",
     "output_type": "stream",
     "text": [
      "[[33.86299896 36.86299896]]\n"
     ]
    }
   ],
   "source": [
    "# Take a look inside (note no parentheses)\n",
    "beh_dict = expt.behavior_data\n",
    "\n",
    "# note variables are stored as intervals (i.e. start/stop times)\n",
    "print(beh_dict['odorA'])"
   ]
  },
  {
   "cell_type": "code",
   "execution_count": 8,
   "metadata": {},
   "outputs": [
    {
     "data": {
      "text/plain": [
       "\u001b[0;31mSignature:\u001b[0m\n",
       "\u001b[0mexpt\u001b[0m\u001b[0;34m.\u001b[0m\u001b[0mformat_behavior_data\u001b[0m\u001b[0;34m(\u001b[0m\u001b[0;34m\u001b[0m\n",
       "\u001b[0;34m\u001b[0m    \u001b[0msampling_interval\u001b[0m\u001b[0;34m=\u001b[0m\u001b[0;36m0.1\u001b[0m\u001b[0;34m,\u001b[0m\u001b[0;34m\u001b[0m\n",
       "\u001b[0;34m\u001b[0m    \u001b[0mdiscard_pre\u001b[0m\u001b[0;34m=\u001b[0m\u001b[0;36m0\u001b[0m\u001b[0;34m,\u001b[0m\u001b[0;34m\u001b[0m\n",
       "\u001b[0;34m\u001b[0m    \u001b[0mdiscard_post\u001b[0m\u001b[0;34m=\u001b[0m\u001b[0minf\u001b[0m\u001b[0;34m,\u001b[0m\u001b[0;34m\u001b[0m\n",
       "\u001b[0;34m\u001b[0m    \u001b[0msigma\u001b[0m\u001b[0;34m=\u001b[0m\u001b[0;36m0.1\u001b[0m\u001b[0;34m,\u001b[0m\u001b[0;34m\u001b[0m\n",
       "\u001b[0;34m\u001b[0m\u001b[0;34m)\u001b[0m\u001b[0;34m\u001b[0m\u001b[0;34m\u001b[0m\u001b[0m\n",
       "\u001b[0;31mDocstring:\u001b[0m\n",
       "Format behavior dictionary. Interval variables are converted to\n",
       "boolean vectors that denote activity at each sampling period.\n",
       "Continuous variables are re-sampled at each discrete sampling period.\n",
       "\n",
       "Parameters\n",
       "----------\n",
       "sampling_interval : float, optional\n",
       "    Sampling rate for discretizing time. Variables expressed as\n",
       "    intervals (i.e. vectors of start and stop times) are converted to\n",
       "    binary vectors that are True for frames inside the intervals.\n",
       "    Continuous variables are resampled at the corresponding time\n",
       "    points.\n",
       "discard_pre : {'first_lap', float}, optional\n",
       "    If 'first_lap', truncate data before the first complete lap. If\n",
       "    float, truncate data occuring before this time. Default behavior\n",
       "    returns all data points\n",
       "discard_post : float, optional\n",
       "    Truncate data occuring after this time. Default behavior returns\n",
       "    all data points\n",
       "sigma : float, optional\n",
       "    Standard deviation of gaussian smoothing kernel for smoothing\n",
       "    velocity variable, in seconds. Defaults to 0.1\n",
       "\n",
       "Returns\n",
       "-------\n",
       "beh_dict : dict\n",
       "    Behavior data dictionary with variables expressed in discrete time\n",
       "    bins\n",
       "\n",
       "See also\n",
       "--------\n",
       "experiment.utils.discretize_behavior\n",
       "\u001b[0;31mFile:\u001b[0m      ~/code/lab3/lab3/experiment/base.py\n",
       "\u001b[0;31mType:\u001b[0m      method\n"
      ]
     },
     "metadata": {},
     "output_type": "display_data"
    }
   ],
   "source": [
    "# This is the behavior data formatting method\n",
    "expt.format_behavior_data?"
   ]
  },
  {
   "cell_type": "code",
   "execution_count": 9,
   "metadata": {},
   "outputs": [],
   "source": [
    "# Let's get the behavior dictionary with default parameters\n",
    "beh_dict = expt.format_behavior_data()"
   ]
  },
  {
   "cell_type": "code",
   "execution_count": 10,
   "metadata": {},
   "outputs": [
    {
     "name": "stdout",
     "output_type": "stream",
     "text": [
      "dict_keys(['odorA_pin', 'lick', 'recordingDuration', 'trackLength', 'odorB', 'odorA', 'water', 'sync_pin', 'odorB_pin', 'treadmillPosition', 'reward_pin', 'lap', 'reward', 'velocity', 'lap_bin', 'sampling_interval', 'discard_pre', 'discard_post', 'json'])\n"
     ]
    }
   ],
   "source": [
    "print(beh_dict.keys())"
   ]
  },
  {
   "cell_type": "code",
   "execution_count": 11,
   "metadata": {},
   "outputs": [
    {
     "name": "stdout",
     "output_type": "stream",
     "text": [
      "[False False False ... False False False]\n"
     ]
    }
   ],
   "source": [
    "# note the interval variables are binarized now \n",
    "print(beh_dict['odorA'])"
   ]
  },
  {
   "cell_type": "code",
   "execution_count": 12,
   "metadata": {},
   "outputs": [
    {
     "name": "stdout",
     "output_type": "stream",
     "text": [
      "[-25.02003921 -40.73965032 -45.25877341 ... -52.66123709 -51.7373391\n",
      " -44.91060497]\n"
     ]
    }
   ],
   "source": [
    "# and we can access velocity through this dictionary\n",
    "print(beh_dict['velocity'])"
   ]
  },
  {
   "cell_type": "code",
   "execution_count": 13,
   "metadata": {},
   "outputs": [
    {
     "name": "stdout",
     "output_type": "stream",
     "text": [
      "[-25.02003921 -40.73965032 -45.25877341 ... -52.66123709 -51.7373391\n",
      " -44.91060497]\n"
     ]
    }
   ],
   "source": [
    "# or through the velocity method\n",
    "print(expt.velocity())"
   ]
  },
  {
   "cell_type": "markdown",
   "metadata": {},
   "source": [
    "### Using `ImagingExperiment`\n",
    "\n",
    "So far we've explored the BehaviorExperiment class, which provides methods for accessing information from the database and the underlying behavior data. This is class is already sufficient if the only data you are handling is behavior data, but more often we have concurrently recorded imaging data that we would like to analyze in parallel. So we'll augment this functionality to include methods specific to imaging data in the `ImagingExperiment` class.\n",
    "\n",
    "Like `BehaviorExperiment`, `ImagingExperiment` is initialized by passing a `trial_id` from the database, but additionally we must pair this trial with a sima directory."
   ]
  },
  {
   "cell_type": "code",
   "execution_count": 14,
   "metadata": {},
   "outputs": [
    {
     "data": {
      "text/plain": [
       "\u001b[0;31mInit signature:\u001b[0m\n",
       "\u001b[0mbase\u001b[0m\u001b[0;34m.\u001b[0m\u001b[0mImagingExperiment\u001b[0m\u001b[0;34m(\u001b[0m\u001b[0;34m\u001b[0m\n",
       "\u001b[0;34m\u001b[0m    \u001b[0mtrial_id\u001b[0m\u001b[0;34m,\u001b[0m\u001b[0;34m\u001b[0m\n",
       "\u001b[0;34m\u001b[0m    \u001b[0msima_path\u001b[0m\u001b[0;34m=\u001b[0m\u001b[0;32mNone\u001b[0m\u001b[0;34m,\u001b[0m\u001b[0;34m\u001b[0m\n",
       "\u001b[0;34m\u001b[0m    \u001b[0mforce_pairing\u001b[0m\u001b[0;34m=\u001b[0m\u001b[0;32mFalse\u001b[0m\u001b[0;34m,\u001b[0m\u001b[0;34m\u001b[0m\n",
       "\u001b[0;34m\u001b[0m    \u001b[0mstore\u001b[0m\u001b[0;34m=\u001b[0m\u001b[0;32mFalse\u001b[0m\u001b[0;34m,\u001b[0m\u001b[0;34m\u001b[0m\n",
       "\u001b[0;34m\u001b[0m\u001b[0;34m)\u001b[0m\u001b[0;34m\u001b[0m\u001b[0;34m\u001b[0m\u001b[0m\n",
       "\u001b[0;31mDocstring:\u001b[0m     \n",
       "Imaging experiment with behavior. If the imaging directory is not\n",
       "already paired with the database trial id, or you would like to modify it,\n",
       "this can be passed during initialization and the database will be updated\n",
       "accordingly.\n",
       "\n",
       "Parameters\n",
       "----------\n",
       "trial_id : int\n",
       "    ID of experiment in the sql database\n",
       "sima_path : str, optional\n",
       "    Path to a sima folder. If passed, this imaging data will be paired in\n",
       "    the database with this trial_id.\n",
       "force_pairing : bool, optional\n",
       "    If trial_id is already paired with a sima folder but tseries_path\n",
       "    is passed, whether to overwrite pairing. Default is False\n",
       "store : bool, optional\n",
       "    Whether to store the newly paired sima_path in the database, if passed.\n",
       "    Defaults to False.\n",
       "\u001b[0;31mFile:\u001b[0m           ~/code/lab3/lab3/experiment/base.py\n",
       "\u001b[0;31mType:\u001b[0m           type\n",
       "\u001b[0;31mSubclasses:\u001b[0m     ImagingLFPExperiment\n"
      ]
     },
     "metadata": {},
     "output_type": "display_data"
    }
   ],
   "source": [
    "base.ImagingExperiment?"
   ]
  },
  {
   "cell_type": "code",
   "execution_count": 15,
   "metadata": {},
   "outputs": [
    {
     "ename": "AttributeError",
     "evalue": "Trial [16716] has no sima_path, or the path is not valid. Try passing a sima_path when initializing ImagingExperiment.",
     "output_type": "error",
     "traceback": [
      "\u001b[0;31m---------------------------------------------------------------------------\u001b[0m",
      "\u001b[0;31mKeyError\u001b[0m                                  Traceback (most recent call last)",
      "\u001b[0;32m~/code/lab3/lab3/experiment/base.py\u001b[0m in \u001b[0;36m__init__\u001b[0;34m(self, trial_id, sima_path, force_pairing, store)\u001b[0m\n\u001b[1;32m    657\u001b[0m             \u001b[0;32mtry\u001b[0m\u001b[0;34m:\u001b[0m\u001b[0;34m\u001b[0m\u001b[0;34m\u001b[0m\u001b[0m\n\u001b[0;32m--> 658\u001b[0;31m                 \u001b[0mself\u001b[0m\u001b[0;34m.\u001b[0m\u001b[0msima_path\u001b[0m \u001b[0;34m=\u001b[0m \u001b[0mself\u001b[0m\u001b[0;34m.\u001b[0m\u001b[0mattrib\u001b[0m\u001b[0;34m[\u001b[0m\u001b[0;34m'sima_path'\u001b[0m\u001b[0;34m]\u001b[0m\u001b[0;34m\u001b[0m\u001b[0;34m\u001b[0m\u001b[0m\n\u001b[0m\u001b[1;32m    659\u001b[0m                 \u001b[0mself\u001b[0m\u001b[0;34m.\u001b[0m\u001b[0mimaging_dataset\u001b[0m\u001b[0;34m\u001b[0m\u001b[0;34m\u001b[0m\u001b[0m\n",
      "\u001b[0;31mKeyError\u001b[0m: 'sima_path'",
      "\nDuring handling of the above exception, another exception occurred:\n",
      "\u001b[0;31mAttributeError\u001b[0m                            Traceback (most recent call last)",
      "\u001b[0;32m<ipython-input-15-8aeaf56d0929>\u001b[0m in \u001b[0;36m<module>\u001b[0;34m\u001b[0m\n\u001b[1;32m      1\u001b[0m \u001b[0;31m# if we try to initialize our current experiment, it will fail due to the lack of a sima path\u001b[0m\u001b[0;34m\u001b[0m\u001b[0;34m\u001b[0m\u001b[0;34m\u001b[0m\u001b[0m\n\u001b[0;32m----> 2\u001b[0;31m \u001b[0mexpt\u001b[0m \u001b[0;34m=\u001b[0m \u001b[0mbase\u001b[0m\u001b[0;34m.\u001b[0m\u001b[0mImagingExperiment\u001b[0m\u001b[0;34m(\u001b[0m\u001b[0mtrial_id\u001b[0m\u001b[0;34m)\u001b[0m\u001b[0;34m\u001b[0m\u001b[0;34m\u001b[0m\u001b[0m\n\u001b[0m",
      "\u001b[0;32m~/code/lab3/lab3/experiment/base.py\u001b[0m in \u001b[0;36m__init__\u001b[0;34m(self, trial_id, sima_path, force_pairing, store)\u001b[0m\n\u001b[1;32m    662\u001b[0m                     \u001b[0;34mf\"Trial {trial_id} has no sima_path, or the path \"\u001b[0m\u001b[0;34m\u001b[0m\u001b[0;34m\u001b[0m\u001b[0m\n\u001b[1;32m    663\u001b[0m                     \u001b[0;34m+\u001b[0m \u001b[0;34m\"is not valid. Try passing a sima_path when \"\u001b[0m\u001b[0;34m\u001b[0m\u001b[0;34m\u001b[0m\u001b[0m\n\u001b[0;32m--> 664\u001b[0;31m                     + f\"initializing {type(self).__name__}.\")\n\u001b[0m\u001b[1;32m    665\u001b[0m \u001b[0;34m\u001b[0m\u001b[0m\n\u001b[1;32m    666\u001b[0m     \u001b[0;32mdef\u001b[0m \u001b[0mformat_behavior_data\u001b[0m\u001b[0;34m(\u001b[0m\u001b[0mself\u001b[0m\u001b[0;34m,\u001b[0m \u001b[0mimage_sync\u001b[0m\u001b[0;34m=\u001b[0m\u001b[0;32mTrue\u001b[0m\u001b[0;34m,\u001b[0m \u001b[0;34m**\u001b[0m\u001b[0mkwargs\u001b[0m\u001b[0;34m)\u001b[0m\u001b[0;34m:\u001b[0m\u001b[0;34m\u001b[0m\u001b[0;34m\u001b[0m\u001b[0m\n",
      "\u001b[0;31mAttributeError\u001b[0m: Trial [16716] has no sima_path, or the path is not valid. Try passing a sima_path when initializing ImagingExperiment."
     ]
    }
   ],
   "source": [
    "# if we try to initialize our current experiment, it will fail due to the lack of a sima path\n",
    "expt = base.ImagingExperiment(trial_id)"
   ]
  },
  {
   "cell_type": "markdown",
   "metadata": {},
   "source": [
    "### Pairing imaging data\n",
    "\n",
    "For trials that have not been paired with a sima directory yet, we can do the pairing during initialization of the `ImagingExperiment` object by passing the `sima_path` argument. We can also overwrite an existing pairing by passing `force_pairing=True`. Lastly, we can store the pairing in the database by passing `store=True`, so that in the future, we may instantiate the experiment object using just the trial_id without re-specifying the sima directory. This is similar to setting the `tSeries_path` attribute in the old experiment class, but here we require the user to unambiguously pair each experiment with a single sima directory, rather than a folder that may possibly contain multiple sima datasets.\n",
    "\n",
    "For now, illustration, we'll just pair the data with the example dataset included in sima, and *not* store this information in the database."
   ]
  },
  {
   "cell_type": "code",
   "execution_count": 18,
   "metadata": {},
   "outputs": [
    {
     "ename": "AssertionError",
     "evalue": "Not a valid sima path",
     "output_type": "error",
     "traceback": [
      "\u001b[0;31m---------------------------------------------------------------------------\u001b[0m",
      "\u001b[0;31mAssertionError\u001b[0m                            Traceback (most recent call last)",
      "\u001b[0;32m<ipython-input-18-2eeadc891ef7>\u001b[0m in \u001b[0;36m<module>\u001b[0;34m\u001b[0m\n\u001b[1;32m     13\u001b[0m \u001b[0;34m\u001b[0m\u001b[0m\n\u001b[1;32m     14\u001b[0m \u001b[0;31m# instantiate an ImagingExperiment\u001b[0m\u001b[0;34m\u001b[0m\u001b[0;34m\u001b[0m\u001b[0;34m\u001b[0m\u001b[0m\n\u001b[0;32m---> 15\u001b[0;31m \u001b[0mexpt\u001b[0m \u001b[0;34m=\u001b[0m \u001b[0mbase\u001b[0m\u001b[0;34m.\u001b[0m\u001b[0mImagingExperiment\u001b[0m\u001b[0;34m(\u001b[0m\u001b[0mtrial_id\u001b[0m\u001b[0;34m,\u001b[0m \u001b[0msima_path\u001b[0m\u001b[0;34m=\u001b[0m\u001b[0msima_path\u001b[0m\u001b[0;34m)\u001b[0m\u001b[0;34m\u001b[0m\u001b[0;34m\u001b[0m\u001b[0m\n\u001b[0m\u001b[1;32m     16\u001b[0m \u001b[0;34m\u001b[0m\u001b[0m\n\u001b[1;32m     17\u001b[0m \u001b[0;31m# note this will print the changes that would be made to the database if store=True,\u001b[0m\u001b[0;34m\u001b[0m\u001b[0;34m\u001b[0m\u001b[0;34m\u001b[0m\u001b[0m\n",
      "\u001b[0;32m~/code/lab3/lab3/experiment/base.py\u001b[0m in \u001b[0;36m__init__\u001b[0;34m(self, trial_id, sima_path, force_pairing, store)\u001b[0m\n\u001b[1;32m    652\u001b[0m             \u001b[0;32mexcept\u001b[0m \u001b[0;34m(\u001b[0m\u001b[0mKeyError\u001b[0m\u001b[0;34m,\u001b[0m \u001b[0mAttributeError\u001b[0m\u001b[0;34m)\u001b[0m\u001b[0;34m:\u001b[0m\u001b[0;34m\u001b[0m\u001b[0;34m\u001b[0m\u001b[0m\n\u001b[1;32m    653\u001b[0m                 \u001b[0;32mpass\u001b[0m\u001b[0;34m\u001b[0m\u001b[0;34m\u001b[0m\u001b[0m\n\u001b[0;32m--> 654\u001b[0;31m             \u001b[0mself\u001b[0m\u001b[0;34m.\u001b[0m\u001b[0msima_path\u001b[0m \u001b[0;34m=\u001b[0m \u001b[0msima_path\u001b[0m\u001b[0;34m\u001b[0m\u001b[0;34m\u001b[0m\u001b[0m\n\u001b[0m\u001b[1;32m    655\u001b[0m             \u001b[0mself\u001b[0m\u001b[0;34m.\u001b[0m\u001b[0msave\u001b[0m\u001b[0;34m(\u001b[0m\u001b[0mstore\u001b[0m\u001b[0;34m=\u001b[0m\u001b[0mstore\u001b[0m\u001b[0;34m)\u001b[0m\u001b[0;34m\u001b[0m\u001b[0;34m\u001b[0m\u001b[0m\n\u001b[1;32m    656\u001b[0m         \u001b[0;32melse\u001b[0m\u001b[0;34m:\u001b[0m\u001b[0;34m\u001b[0m\u001b[0;34m\u001b[0m\u001b[0m\n",
      "\u001b[0;32m~/code/lab3/lab3/experiment/base.py\u001b[0m in \u001b[0;36m__setattr__\u001b[0;34m(self, item, value)\u001b[0m\n\u001b[1;32m    200\u001b[0m     \u001b[0;32mdef\u001b[0m \u001b[0m__setattr__\u001b[0m\u001b[0;34m(\u001b[0m\u001b[0mself\u001b[0m\u001b[0;34m,\u001b[0m \u001b[0mitem\u001b[0m\u001b[0;34m,\u001b[0m \u001b[0mvalue\u001b[0m\u001b[0;34m)\u001b[0m\u001b[0;34m:\u001b[0m\u001b[0;34m\u001b[0m\u001b[0;34m\u001b[0m\u001b[0m\n\u001b[1;32m    201\u001b[0m         \u001b[0;32mif\u001b[0m \u001b[0mitem\u001b[0m \u001b[0;32min\u001b[0m \u001b[0mPROPERTIES\u001b[0m\u001b[0;34m:\u001b[0m\u001b[0;34m\u001b[0m\u001b[0;34m\u001b[0m\u001b[0m\n\u001b[0;32m--> 202\u001b[0;31m             \u001b[0msuper\u001b[0m\u001b[0;34m(\u001b[0m\u001b[0;34m)\u001b[0m\u001b[0;34m.\u001b[0m\u001b[0m__setattr__\u001b[0m\u001b[0;34m(\u001b[0m\u001b[0mitem\u001b[0m\u001b[0;34m,\u001b[0m \u001b[0mvalue\u001b[0m\u001b[0;34m)\u001b[0m\u001b[0;34m\u001b[0m\u001b[0;34m\u001b[0m\u001b[0m\n\u001b[0m\u001b[1;32m    203\u001b[0m             \u001b[0mself\u001b[0m\u001b[0;34m.\u001b[0m\u001b[0mattrib\u001b[0m\u001b[0;34m[\u001b[0m\u001b[0mitem\u001b[0m\u001b[0;34m]\u001b[0m \u001b[0;34m=\u001b[0m \u001b[0mvalue\u001b[0m\u001b[0;34m\u001b[0m\u001b[0;34m\u001b[0m\u001b[0m\n\u001b[1;32m    204\u001b[0m         \u001b[0;32melif\u001b[0m \u001b[0mitem\u001b[0m \u001b[0;34m==\u001b[0m \u001b[0;34m'attrib'\u001b[0m \u001b[0;32mor\u001b[0m \u001b[0mitem\u001b[0m\u001b[0;34m[\u001b[0m\u001b[0;36m0\u001b[0m\u001b[0;34m]\u001b[0m \u001b[0;34m==\u001b[0m \u001b[0;34m'_'\u001b[0m\u001b[0;34m:\u001b[0m\u001b[0;34m\u001b[0m\u001b[0;34m\u001b[0m\u001b[0m\n",
      "\u001b[0;32m~/code/lab3/lab3/experiment/base.py\u001b[0m in \u001b[0;36msima_path\u001b[0;34m(self, path)\u001b[0m\n\u001b[1;32m    398\u001b[0m     \u001b[0;32mdef\u001b[0m \u001b[0msima_path\u001b[0m\u001b[0;34m(\u001b[0m\u001b[0mself\u001b[0m\u001b[0;34m,\u001b[0m \u001b[0mpath\u001b[0m\u001b[0;34m)\u001b[0m\u001b[0;34m:\u001b[0m\u001b[0;34m\u001b[0m\u001b[0;34m\u001b[0m\u001b[0m\n\u001b[1;32m    399\u001b[0m         \u001b[0;32massert\u001b[0m \u001b[0mpath\u001b[0m\u001b[0;34m.\u001b[0m\u001b[0mendswith\u001b[0m\u001b[0;34m(\u001b[0m\u001b[0;34m'.sima'\u001b[0m\u001b[0;34m)\u001b[0m \u001b[0;32mand\u001b[0m \u001b[0mos\u001b[0m\u001b[0;34m.\u001b[0m\u001b[0mpath\u001b[0m\u001b[0;34m.\u001b[0m\u001b[0misdir\u001b[0m\u001b[0;34m(\u001b[0m\u001b[0mpath\u001b[0m\u001b[0;34m)\u001b[0m\u001b[0;34m,\u001b[0m\u001b[0;31m \u001b[0m\u001b[0;31m\\\u001b[0m\u001b[0;34m\u001b[0m\u001b[0;34m\u001b[0m\u001b[0m\n\u001b[0;32m--> 400\u001b[0;31m             \u001b[0;34m\"Not a valid sima path\"\u001b[0m\u001b[0;34m\u001b[0m\u001b[0;34m\u001b[0m\u001b[0m\n\u001b[0m\u001b[1;32m    401\u001b[0m         \u001b[0mself\u001b[0m\u001b[0;34m.\u001b[0m\u001b[0m_sima_path\u001b[0m \u001b[0;34m=\u001b[0m \u001b[0mpath\u001b[0m\u001b[0;34m\u001b[0m\u001b[0;34m\u001b[0m\u001b[0m\n\u001b[1;32m    402\u001b[0m \u001b[0;34m\u001b[0m\u001b[0m\n",
      "\u001b[0;31mAssertionError\u001b[0m: Not a valid sima path"
     ]
    }
   ],
   "source": [
    "# copy example sima dataset into working directory \n",
    "\n",
    "# from shutil import copy, copytree\n",
    "# import sima.misc\n",
    "# copytree(sima.misc.example_data(), 'example.sima')\n",
    "# copy(sima.misc.example_tiff(), 'example.tif')\n",
    "# copy(sima.misc.example_tiff(), 'example_Ch1.tif')\n",
    "# copy(sima.misc.example_tiff(), 'example_Ch2.tif')\n",
    "# copy(sima.misc.example_hdf5(), 'example.h5')\n",
    "\n",
    "# this is the sima_path\n",
    "sima_path = 'example.sima'\n",
    "\n",
    "# instantiate an ImagingExperiment\n",
    "expt = base.ImagingExperiment(trial_id, sima_path=sima_path)\n",
    "\n",
    "# note this will print the changes that would be made to the database if store=True, \n",
    "# but will not make the changes unless we explicitly pass that argument during initialization"
   ]
  },
  {
   "cell_type": "markdown",
   "metadata": {},
   "source": [
    "### Properties of `ImagingExperiment`\n",
    "\n",
    "There are many properties we can access now through the experiment object. Rather than go through them each, here is a list of the most commonly used ones:\n",
    "- `frame_rate` - returns the frame rate of the imaging dataset\n",
    "- `frame_period` - inverse of the frame rate\n",
    "- `imaging_parameters` - returns the attribute table from the underlying h5 dataset\n",
    "- `imaging_dataset` - returns the underlying sima `ImagingDataset` object\n",
    "- `signals_path` - returns the path to the `signals.h5` file, which will contain extracted and processed traces from this dataset\n",
    "- `suite2p_imaging_dataset` - returns a `Suite2pImagingDataset` object, which can be used to run Suite2p extraction and import routines on the dataset\n",
    "\n",
    "Here are also the important methods for accessing the data. Note most of these methods will only work with new-style extracted traces:\n",
    "- `signals_file()` - returns the `signals.h5` file containing traces\n",
    "- `signals()` - returns a pandas DataFrame with the desired signals (e.g. raw, dfof, spikes for a given channel and label. This replaces the formed `imagingData()` and `spikes()` methods and provides a unified storage mechanism for time series data).\n",
    "- `calculate_dfof()` - convenience method for running dF/F calculations and saving the signals\n",
    "- `infer_spikes()` - convenience method for running spike inference and saving the signals\n",
    "\n",
    "Lastly, `format_behavior_data()` and `velocity()` are augmented with an `image_sync` parameters (which is True by default), which automatically synchronzies the sampling of behavior data with the imaging frame period, and trims the behavior data to match the imaging data duration. \n",
    "\n",
    "**Note! Before using** `ImagingExperiment` **on older datasets, you should run the** `update_h5.py` **script located in** `lab3/scripts`, **which will add some additional metadata to the h5 file (namely the frame rate and imaging system). This simplifies some operations by storing this information permanently, rather than continuing to recalculate it as part of the experiment methods. This will eventually be integrated into an updated version of** `prairie2h5.py`"
   ]
  },
  {
   "cell_type": "markdown",
   "metadata": {},
   "source": [
    "# TODO \n",
    "- Fill this in with examples of the properties and methods above (hard to do with the example sima dataset since it doesn't have the imaging parameters stored. Use one of my experiments as a permanent example?)\n",
    "- Give an exampleo of ImagingOnlyExperiment and use cases\n",
    "- Mention LFP classes?"
   ]
  },
  {
   "cell_type": "code",
   "execution_count": 17,
   "metadata": {},
   "outputs": [
    {
     "ename": "KeyError",
     "evalue": "'suite2p_imaging_dataset'",
     "output_type": "error",
     "traceback": [
      "\u001b[0;31m---------------------------------------------------------------------------\u001b[0m",
      "\u001b[0;31mKeyError\u001b[0m                                  Traceback (most recent call last)",
      "\u001b[0;32m<ipython-input-17-b0d2e6edc4ba>\u001b[0m in \u001b[0;36m<module>\u001b[0;34m\u001b[0m\n\u001b[0;32m----> 1\u001b[0;31m \u001b[0mexpt\u001b[0m\u001b[0;34m.\u001b[0m\u001b[0msuite2p_imaging_dataset\u001b[0m\u001b[0;34m(\u001b[0m\u001b[0;34m)\u001b[0m\u001b[0;34m\u001b[0m\u001b[0;34m\u001b[0m\u001b[0m\n\u001b[0m",
      "\u001b[0;32m~/code/lab3/lab3/experiment/base.py\u001b[0m in \u001b[0;36m__getattr__\u001b[0;34m(self, item)\u001b[0m\n\u001b[1;32m    196\u001b[0m             \u001b[0;32mreturn\u001b[0m \u001b[0mos\u001b[0m\u001b[0;34m.\u001b[0m\u001b[0mpath\u001b[0m\u001b[0;34m.\u001b[0m\u001b[0msplitext\u001b[0m\u001b[0;34m(\u001b[0m\u001b[0mbehavior_file\u001b[0m\u001b[0;34m)\u001b[0m\u001b[0;34m[\u001b[0m\u001b[0;36m0\u001b[0m\u001b[0;34m]\u001b[0m \u001b[0;34m+\u001b[0m \u001b[0;34m'.pkl'\u001b[0m\u001b[0;34m\u001b[0m\u001b[0;34m\u001b[0m\u001b[0m\n\u001b[1;32m    197\u001b[0m \u001b[0;34m\u001b[0m\u001b[0m\n\u001b[0;32m--> 198\u001b[0;31m         \u001b[0;32mreturn\u001b[0m \u001b[0mself\u001b[0m\u001b[0;34m.\u001b[0m\u001b[0mattrib\u001b[0m\u001b[0;34m[\u001b[0m\u001b[0mitem\u001b[0m\u001b[0;34m]\u001b[0m\u001b[0;34m\u001b[0m\u001b[0;34m\u001b[0m\u001b[0m\n\u001b[0m\u001b[1;32m    199\u001b[0m \u001b[0;34m\u001b[0m\u001b[0m\n\u001b[1;32m    200\u001b[0m     \u001b[0;32mdef\u001b[0m \u001b[0m__setattr__\u001b[0m\u001b[0;34m(\u001b[0m\u001b[0mself\u001b[0m\u001b[0;34m,\u001b[0m \u001b[0mitem\u001b[0m\u001b[0;34m,\u001b[0m \u001b[0mvalue\u001b[0m\u001b[0;34m)\u001b[0m\u001b[0;34m:\u001b[0m\u001b[0;34m\u001b[0m\u001b[0;34m\u001b[0m\u001b[0m\n",
      "\u001b[0;31mKeyError\u001b[0m: 'suite2p_imaging_dataset'"
     ]
    }
   ],
   "source": []
  },
  {
   "cell_type": "code",
   "execution_count": null,
   "metadata": {},
   "outputs": [],
   "source": []
  }
 ],
 "metadata": {
  "kernelspec": {
   "display_name": "Python 3",
   "language": "python",
   "name": "python3"
  },
  "language_info": {
   "codemirror_mode": {
    "name": "ipython",
    "version": 3
   },
   "file_extension": ".py",
   "mimetype": "text/x-python",
   "name": "python",
   "nbconvert_exporter": "python",
   "pygments_lexer": "ipython3",
   "version": "3.8.1"
  }
 },
 "nbformat": 4,
 "nbformat_minor": 4
}
